{
 "cells": [
  {
   "cell_type": "markdown",
   "metadata": {},
   "source": [
    "# Tutorials-2\n",
    "\n",
    "__contents__:\n",
    "<ol>\n",
    "    <li>Draw shapes and text on an image</li>\n",
    "</ol>"
   ]
  },
  {
   "cell_type": "code",
   "execution_count": 1,
   "metadata": {},
   "outputs": [],
   "source": [
    "import cv2\n",
    "import numpy as np\n",
    "import matplotlib.pyplot as plt"
   ]
  },
  {
   "cell_type": "markdown",
   "metadata": {},
   "source": [
    "The operations such as Object Detection, Object Localization involves drawing bounding boxes around the object.Even Polygons can be used for this operation.<br>\n",
    "Operations such as Pose detection involves drawing lines on the structure of the body.<br>\n",
    "To draw circles, boxes ,lines, polygons we make use of opencv.<br>\n",
    "<br>\n",
    "<br>cv2.line(img, pt1, pt2, color[, thickness[, lineType[, shift]]])\n",
    "<br>cv2.rectangle(img, pt1, pt2, color[, thickness[, lineType[, shift]]])\n",
    "<br>cv2.circle(img, center, radius, color[, thickness[, lineType[, shift]]])\n",
    "<br>cv2.clipLine(imgRect, pt1, pt2)\n",
    "<br>cv2.ellipse(img, center, axes, angle, startAngle, endAngle, color[, thickness[, lineType[, shift]]])\n",
    "<br>cv2.ellipse2Poly(center, axes, angle, arcStart, arcEnd, delta) \n",
    "<br>cv.FillConvexPoly(img, pn, color, lineType=8, shift=0)\n",
    "<br>cv2.fillPoly(img, pts, color[, lineType[, shift[, offset]]])\n",
    "<br>cv2.polylines(img, pts, isClosed, color[, thickness[, lineType[, shift]]])\n",
    "<br>cv2.putText(img, text, org, fontFace, fontScale, color[, thickness[, lineType[, bottomLeftOrigin]]])\n",
    "<br>\n",
    "<br>\n",
    "Please refer the document for more details:\n",
    "https://docs.opencv.org/2.4/modules/core/doc/drawing_functions.html"
   ]
  },
  {
   "cell_type": "code",
   "execution_count": 2,
   "metadata": {},
   "outputs": [],
   "source": [
    "## Lets draw a bounding box aroung the face of a man in the image"
   ]
  },
  {
   "cell_type": "code",
   "execution_count": 3,
   "metadata": {},
   "outputs": [],
   "source": [
    "image = cv2.imread('B:/Study/OpenCV/images/dogs/maxresdefault.jpg')"
   ]
  },
  {
   "cell_type": "code",
   "execution_count": 4,
   "metadata": {},
   "outputs": [
    {
     "data": {
      "text/plain": [
       "(1080, 1920, 3)"
      ]
     },
     "execution_count": 4,
     "metadata": {},
     "output_type": "execute_result"
    }
   ],
   "source": [
    "image.shape"
   ]
  },
  {
   "cell_type": "code",
   "execution_count": 5,
   "metadata": {},
   "outputs": [],
   "source": [
    "new_image = cv2.rectangle(image,(1170,400),(1320,600),(255,0,0),5) "
   ]
  },
  {
   "cell_type": "code",
   "execution_count": 6,
   "metadata": {},
   "outputs": [],
   "source": [
    "font = cv2.FONT_HERSHEY_SIMPLEX\n",
    "new_image = cv2.putText(new_image,'MAN',(1170,350), font, 2,(255,0,255),2,cv2.LINE_AA)"
   ]
  },
  {
   "cell_type": "code",
   "execution_count": 7,
   "metadata": {},
   "outputs": [],
   "source": [
    "cv2.startWindowThread()\n",
    "cv2.namedWindow(\"preview\")\n",
    "cv2.imshow('image',new_image)\n",
    "cv2.waitKey(0)\n",
    "cv2.destroyAllWindows()"
   ]
  },
  {
   "cell_type": "code",
   "execution_count": null,
   "metadata": {},
   "outputs": [],
   "source": []
  },
  {
   "cell_type": "code",
   "execution_count": null,
   "metadata": {},
   "outputs": [],
   "source": []
  }
 ],
 "metadata": {
  "kernelspec": {
   "display_name": "deeplearning",
   "language": "python",
   "name": "deeplearning"
  },
  "language_info": {
   "codemirror_mode": {
    "name": "ipython",
    "version": 3
   },
   "file_extension": ".py",
   "mimetype": "text/x-python",
   "name": "python",
   "nbconvert_exporter": "python",
   "pygments_lexer": "ipython3",
   "version": "3.6.6"
  }
 },
 "nbformat": 4,
 "nbformat_minor": 2
}
