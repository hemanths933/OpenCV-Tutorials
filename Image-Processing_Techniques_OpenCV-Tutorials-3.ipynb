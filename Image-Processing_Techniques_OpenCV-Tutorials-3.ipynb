{
 "cells": [
  {
   "cell_type": "markdown",
   "metadata": {},
   "source": [
    "# OpenCV-Tutorials 3- Image Processing Techniques\n",
    "\n",
    "__Contents:__\n",
    "<ol>\n",
    "    <li>Thresholding</li>\n",
    "    <li>Color Filters</li>\n",
    "</ol>\n",
    "    \n"
   ]
  },
  {
   "cell_type": "code",
   "execution_count": 1,
   "metadata": {},
   "outputs": [],
   "source": [
    "import numpy as np\n",
    "import matplotlib.pyplot as plt\n",
    "import cv2"
   ]
  },
  {
   "cell_type": "code",
   "execution_count": 2,
   "metadata": {},
   "outputs": [],
   "source": [
    "image = cv2.imread('B:/Study/OpenCV/images/dogs/bookpage.jpg')"
   ]
  },
  {
   "cell_type": "code",
   "execution_count": 3,
   "metadata": {},
   "outputs": [],
   "source": [
    "def show_img(img):\n",
    "    cv2.startWindowThread()\n",
    "    cv2.namedWindow(\"preview\"+img)\n",
    "    cv2.imshow('image',img)\n",
    "    cv2.waitKey(0)\n",
    "    cv2.destroyAllWindows()"
   ]
  },
  {
   "cell_type": "markdown",
   "metadata": {},
   "source": [
    "# Part-1\n",
    "## 1.Thresholding:\n",
    "\n",
    "<br>There are 2 types of thresholding:\n",
    "<br>1.Global Thresholding\n",
    "<br>2.Adaptive Thresholding\n",
    "<br>\n",
    "\n",
    "1.__Global Thresholding__:\n",
    "We select a value for threshold. If the pixel value is greater than some threshold, we change the pixel value to something else\n",
    "\n",
    "2.__Adaptive Thresholding__:\n",
    "The algorithm automatically selects the threshold as the image could need different thresholds at different places\n"
   ]
  },
  {
   "cell_type": "markdown",
   "metadata": {},
   "source": [
    "### Global Thresholding:\n",
    "__cv2.threshold(image,threshold_value,upgrade_value,type_of_threshold)__ returns the image_array with values thresholded\n",
    "\n",
    "<br>types of threshold:\n",
    "<br>cv2.THRESH_BINARY\n",
    "<br>cv2.THRESH_BINARY_INV\n",
    "<br>cv2.THRESH_TRUNC\n",
    "<br>cv2.THRESH_TOZERO\n",
    "<br>cv2.THRESH_TOZERO_INV\n",
    "<br>\n",
    "We can add cv.THRESH_OTSU to these thresholds to select threshold automatically\n",
    "\n",
    "for detailed explanation, please visit https://docs.opencv.org/3.4.3/d7/d4d/tutorial_py_thresholding.html"
   ]
  },
  {
   "cell_type": "code",
   "execution_count": null,
   "metadata": {},
   "outputs": [],
   "source": [
    "image = cv2.imread('B:/Study/OpenCV/images/dogs/bookpage.jpg',0)\n",
    "show_img(image)"
   ]
  },
  {
   "cell_type": "code",
   "execution_count": null,
   "metadata": {},
   "outputs": [],
   "source": [
    "(_,new_image1) = cv2.threshold(image,12,255,cv2.THRESH_BINARY)\n",
    "show_img(new_image1)"
   ]
  },
  {
   "cell_type": "code",
   "execution_count": null,
   "metadata": {},
   "outputs": [],
   "source": [
    "(_,new_image1) = cv2.threshold(image,12,255,cv2.THRESH_BINARY_INV)\n",
    "show_img(new_image1)"
   ]
  },
  {
   "cell_type": "code",
   "execution_count": null,
   "metadata": {},
   "outputs": [],
   "source": [
    "(_,new_image1) = cv2.threshold(image,12,255,cv2.THRESH_TRUNC)\n",
    "show_img(new_image1)"
   ]
  },
  {
   "cell_type": "code",
   "execution_count": null,
   "metadata": {},
   "outputs": [],
   "source": [
    "(_,new_image1) = cv2.threshold(image,12,255,cv2.THRESH_TOZERO)\n",
    "show_img(new_image1)"
   ]
  },
  {
   "cell_type": "code",
   "execution_count": null,
   "metadata": {},
   "outputs": [],
   "source": [
    "(_,new_image1) = cv2.threshold(image,12,255,cv2.THRESH_TOZERO_INV)\n",
    "show_img(new_image1)"
   ]
  },
  {
   "cell_type": "markdown",
   "metadata": {},
   "source": [
    "#### Lets add cv2.THRESH_OTSU to threshold_type to select threshold automatically"
   ]
  },
  {
   "cell_type": "code",
   "execution_count": null,
   "metadata": {},
   "outputs": [],
   "source": [
    "for threshold_type in [cv2.THRESH_BINARY,cv2.THRESH_BINARY_INV,cv2.THRESH_TRUNC,cv2.THRESH_TOZERO,cv2.THRESH_TOZERO_INV]:\n",
    "    show_img(cv2.threshold(image,12,255,threshold_type+cv2.THRESH_OTSU)[1])"
   ]
  },
  {
   "cell_type": "markdown",
   "metadata": {},
   "source": [
    "### Adaptive Thresholding:\n",
    "\n",
    "__adaptiveThreshold(src, maxValue, adaptiveMethod, thresholdType, blockSize, C)__ \n",
    "\n",
    "adaptiveMethods:\n",
    "<ol>\n",
    "    <li>cv2.ADAPTIVE_THRESH_MEAN_C</li>\n",
    "    <li>cv2.ADAPTIVE_THRESH_GAUSSIAN_C</li>\n",
    "</ol>\n",
    "\n",
    "thresholdTypes can be:\n",
    "<ol>\n",
    "    <li>cv2.THRESH_BINARY</li>\n",
    "    <li>cv2.THRESH_BINARY_INV</li>\n",
    "</ol>\n",
    "\n",
    "For details, please visit https://docs.opencv.org/3.4.3/d7/d4d/tutorial_py_thresholding.html"
   ]
  },
  {
   "cell_type": "code",
   "execution_count": null,
   "metadata": {},
   "outputs": [],
   "source": [
    "new_image = cv2.adaptiveThreshold(image,255,cv2.ADAPTIVE_THRESH_MEAN_C,cv2.THRESH_BINARY,11,2)\n",
    "show_img(new_image)"
   ]
  },
  {
   "cell_type": "markdown",
   "metadata": {},
   "source": [
    "#### Lets run all the possible combinations"
   ]
  },
  {
   "cell_type": "code",
   "execution_count": null,
   "metadata": {},
   "outputs": [],
   "source": [
    "for adaptive_method in [cv2.ADAPTIVE_THRESH_MEAN_C,cv2.ADAPTIVE_THRESH_GAUSSIAN_C]:\n",
    "    for threshold_type in [cv2.THRESH_BINARY,cv2.THRESH_BINARY_INV]:\n",
    "        show_img(cv2.adaptiveThreshold(image,255,adaptive_method,threshold_type,11,2))"
   ]
  },
  {
   "cell_type": "markdown",
   "metadata": {},
   "source": [
    "# Part-2\n",
    "## Color Filters:\n",
    "\n",
    "__cv2.inRange(hsv,lower_range_hsv,upper_range_hsv)__ retruns only pixels which are in range from lower range hsv value to upper range hsv value\n",
    "<br>\n",
    "\n",
    "\n",
    "to convert bgr to hsv values i.e.to calculate lower and upper bound hsv values use external website like\n",
    "https://www.rapidtables.com/convert/color/rgb-to-hsv.html"
   ]
  },
  {
   "cell_type": "code",
   "execution_count": 4,
   "metadata": {},
   "outputs": [],
   "source": [
    "def color_filter(img,lower_range_hsv,upper_range_hsv):\n",
    "    hsv = cv2.cvtColor(img,cv2.COLOR_BGR2HSV)\n",
    "    return(cv2.inRange(hsv,lower_range_hsv,upper_range_hsv))"
   ]
  },
  {
   "cell_type": "code",
   "execution_count": 7,
   "metadata": {},
   "outputs": [],
   "source": [
    "def color_filter_fill(img,lower_range_hsv,upper_range_hsv):\n",
    "    hsv = cv2.cvtColor(img,cv2.COLOR_BGR2HSV)\n",
    "    mask = cv2.inRange(hsv,lower_range_hsv,upper_range_hsv)\n",
    "    return(cv2.bitwise_and(img,img,mask=mask))"
   ]
  },
  {
   "cell_type": "code",
   "execution_count": 8,
   "metadata": {},
   "outputs": [
    {
     "name": "stdout",
     "output_type": "stream",
     "text": [
      "[[[  0   0 255]]]\n"
     ]
    }
   ],
   "source": [
    "def hsv2bgr(hsv):\n",
    "    return(cv2.cvtColor(hsv,cv2.COLOR_HSV2BGR))\n",
    "print(hsv2bgr(np.uint8([[[180,255,255]]])))"
   ]
  },
  {
   "cell_type": "code",
   "execution_count": 9,
   "metadata": {},
   "outputs": [],
   "source": [
    "capture = cv2.VideoCapture(1)\n",
    "while True:\n",
    "    _,frame = capture.read()\n",
    "    cv2.imshow('original',frame)\n",
    "    cv2.imshow('filtered_mask',color_filter(frame,np.array([150,150,50]),np.array([180,255,180])))#filter red\n",
    "    if cv2.waitKey(1) & 0xFF == ord('q'):\n",
    "        break\n",
    "capture.release()\n",
    "cv2.destroyAllWindows() \n"
   ]
  },
  {
   "cell_type": "markdown",
   "metadata": {},
   "source": [
    "#### Lets fill the white area i.e. red in original image, white in masked image with original pixels."
   ]
  },
  {
   "cell_type": "code",
   "execution_count": 10,
   "metadata": {},
   "outputs": [],
   "source": [
    "capture = cv2.VideoCapture(1)\n",
    "while True:\n",
    "    _,frame = capture.read()\n",
    "    cv2.imshow('original',frame)\n",
    "    cv2.imshow('filtered_mask',color_filter(frame,np.array([150,150,50]),np.array([180,255,180])))#filter red\n",
    "    cv2.imshow('filtered_mask',color_filter_fill(frame,np.array([150,150,50]),np.array([180,255,180])))#filter red\n",
    "    if cv2.waitKey(1) & 0xFF == ord('q'):\n",
    "        break\n",
    "capture.release()\n",
    "cv2.destroyAllWindows() "
   ]
  },
  {
   "cell_type": "code",
   "execution_count": null,
   "metadata": {},
   "outputs": [],
   "source": []
  }
 ],
 "metadata": {
  "kernelspec": {
   "display_name": "deeplearning",
   "language": "python",
   "name": "deeplearning"
  },
  "language_info": {
   "codemirror_mode": {
    "name": "ipython",
    "version": 3
   },
   "file_extension": ".py",
   "mimetype": "text/x-python",
   "name": "python",
   "nbconvert_exporter": "python",
   "pygments_lexer": "ipython3",
   "version": "3.6.6"
  }
 },
 "nbformat": 4,
 "nbformat_minor": 2
}
