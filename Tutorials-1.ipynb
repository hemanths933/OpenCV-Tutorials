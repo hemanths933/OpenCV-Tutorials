{
 "cells": [
  {
   "cell_type": "markdown",
   "metadata": {},
   "source": [
    "# OPENCV TUTORIAL 1\n",
    "\n",
    " __contents__:\n",
    " <ol>\n",
    "    <li>read image</li>\n",
    "    <li>create image</li>\n",
    "    <li>read webcam</li>\n",
    "    <li>read video</li>\n",
    "    <li>create video</li>\n",
    " </ol>"
   ]
  },
  {
   "cell_type": "code",
   "execution_count": 1,
   "metadata": {},
   "outputs": [],
   "source": [
    "import cv2\n",
    "import numpy as np\n",
    "import matplotlib.pyplot as plt"
   ]
  },
  {
   "cell_type": "markdown",
   "metadata": {},
   "source": [
    "## Lets read the image from disk\n",
    "\n",
    "__cv2.imread(Path,filter) returns image as numpy array__"
   ]
  },
  {
   "cell_type": "code",
   "execution_count": 2,
   "metadata": {},
   "outputs": [],
   "source": [
    "image = cv2.imread('B:/Study/OpenCV/images/dogs/maxresdefault.jpg')# read image without filters\n",
    "\n",
    "#Other optional read statements with filters\n",
    "\n",
    "#NO FILTER: Read as it is\n",
    "# image = cv2.imread('B:/Study/OpenCV/images/dogs/maxresdefault.jpg',-1) OR image = cv2.imread('B:/Study/OpenCV/images/dogs/maxresdefault.jpg',cv2.IMREAD_UNCHANGED)\n",
    "\n",
    "#GRAYSCALE FILTER: Read as a grayscale image\n",
    "# image = cv2.imread('B:/Study/OpenCV/images/dogs/maxresdefault.jpg',0) OR image = cv2.imread('B:/Study/OpenCV/images/dogs/maxresdefault.jpg',cv2.IMREAD_GRAYSCALE)\n",
    "\n",
    "#Read as color image, but does not work for grayscale images( then how is it different from no filter)\n",
    "# image = cv2.imread('B:/Study/OpenCV/images/dogs/maxresdefault.jpg',1) OR image = cv2.imread('B:/Study/OpenCV/images/dogs/maxresdefault.jpg',cv2.IMREAD_COLOR)\n"
   ]
  },
  {
   "cell_type": "code",
   "execution_count": 3,
   "metadata": {},
   "outputs": [
    {
     "data": {
      "text/plain": [
       "(1080, 1920, 3)"
      ]
     },
     "execution_count": 3,
     "metadata": {},
     "output_type": "execute_result"
    }
   ],
   "source": [
    "image.shape"
   ]
  },
  {
   "cell_type": "code",
   "execution_count": 4,
   "metadata": {},
   "outputs": [
    {
     "data": {
      "text/plain": [
       "numpy.ndarray"
      ]
     },
     "execution_count": 4,
     "metadata": {},
     "output_type": "execute_result"
    }
   ],
   "source": [
    "type(image)"
   ]
  },
  {
   "cell_type": "markdown",
   "metadata": {},
   "source": [
    "## Lets visualize the image\n",
    "\n",
    "__cv2.imshow(Window_name,image)__ returns a window with image\n",
    "<br>\n",
    "For the window to be closed:\n",
    "__cv2.waitkey(0)__ accepts any key\n",
    "<br>\n",
    "we destroy the window using __cv2.destroyAllWindows()__ if 'q' character is pressed"
   ]
  },
  {
   "cell_type": "code",
   "execution_count": 5,
   "metadata": {},
   "outputs": [],
   "source": [
    "cv2.imshow('image',image)\n",
    "if(cv2.waitKey(0)=='q'):\n",
    "    cv2.destroyAllWindows()"
   ]
  },
  {
   "cell_type": "markdown",
   "metadata": {},
   "source": [
    "## Lets create an image\n",
    "\n",
    "__cv2.imwrite(new_image_path,image_array)__ creates image with image_array and returns boolean"
   ]
  },
  {
   "cell_type": "code",
   "execution_count": 14,
   "metadata": {},
   "outputs": [
    {
     "data": {
      "text/plain": [
       "True"
      ]
     },
     "execution_count": 14,
     "metadata": {},
     "output_type": "execute_result"
    }
   ],
   "source": [
    "cv2.imwrite('B:/Study/OpenCV/images/dogs/blacknwhite.jpg',image)"
   ]
  },
  {
   "cell_type": "markdown",
   "metadata": {},
   "source": [
    "## Convert the color format of an image"
   ]
  },
  {
   "cell_type": "code",
   "execution_count": 6,
   "metadata": {},
   "outputs": [],
   "source": [
    "converted_image = cv2.cvtColor(image,cv2.COLORMAP_PINK)"
   ]
  },
  {
   "cell_type": "code",
   "execution_count": 7,
   "metadata": {},
   "outputs": [],
   "source": [
    "cv2.imshow('image',converted_image)\n",
    "if cv2.waitKey(1) & 0xFF == ord('q'):\n",
    "    cv2.destroyAllWindows()"
   ]
  },
  {
   "cell_type": "markdown",
   "metadata": {},
   "source": [
    "## Lets read the video from Webcam\n",
    "\n",
    "__cv2.VideoCapture(video_source)__ returns a capture object\n",
    "<br>video source is 0,1,..n for webcam\n",
    "<br>video source is a path 'C:\\...\" for a video\n",
    "<br>\n",
    "<br>\n",
    "__capture_object.read()__ returns boolean value for read success/failure ,image frame\n",
    "<br>We need to continously read this frame, So put this inside an infinite loop or inside a range of value to capture till limited time."
   ]
  },
  {
   "cell_type": "code",
   "execution_count": 10,
   "metadata": {},
   "outputs": [],
   "source": [
    "capture = cv2.VideoCapture(1)\n",
    "while True:\n",
    "    __,frame = capture.read()\n",
    "    cv2.imshow('frame',frame)\n",
    "    if cv2.waitKey(1) & 0xFF == ord('q'):\n",
    "        break\n",
    "cv2.destroyAllWindows()"
   ]
  },
  {
   "cell_type": "markdown",
   "metadata": {},
   "source": [
    "## Lets read the video from disk"
   ]
  },
  {
   "cell_type": "code",
   "execution_count": 5,
   "metadata": {},
   "outputs": [],
   "source": [
    "capture = cv2.VideoCapture('B:/Study/OpenCV/videos/SampleVideo_1280x720_1mb.mp4')\n",
    "while(capture.read()[0]==True):\n",
    "    __,frame = capture.read()\n",
    "    cv2.imshow('frame',frame)\n",
    "    if cv2.waitKey(1) & 0xFF == ord('q'):\n",
    "        break\n",
    "cv2.destroyAllWindows()"
   ]
  },
  {
   "cell_type": "markdown",
   "metadata": {},
   "source": [
    "## Lets create a video using webcam\n",
    "\n",
    "__cv2.VideoWriter([filename, fourcc, fps, frameSize[, isColor]])__ returns <VideoWriter object>"
   ]
  },
  {
   "cell_type": "code",
   "execution_count": 19,
   "metadata": {},
   "outputs": [],
   "source": [
    "video_path = 'B:/Study/OpenCV/videos/new_video.mp4'\n",
    "fourcc = cv2.VideoWriter_fourcc(*'XVID') #codec\n",
    "fps = 20.0\n",
    "frame_size = (640,480)\n",
    "writer = cv2.VideoWriter(video_path,fourcc,fps,frame_size)\n",
    "\n",
    "capture = cv2.VideoCapture(1)\n",
    "while True:\n",
    "    _,frame = capture.read()\n",
    "    cv2.imshow('frame',frame)\n",
    "    writer.write(frame)\n",
    "    if cv2.waitKey(1) & 0xFF == ord('q'):\n",
    "        break\n",
    "\n",
    "capture.release()\n",
    "writer.release()\n",
    "cv2.destroyAllWindows()"
   ]
  },
  {
   "cell_type": "code",
   "execution_count": null,
   "metadata": {},
   "outputs": [],
   "source": []
  },
  {
   "cell_type": "code",
   "execution_count": null,
   "metadata": {},
   "outputs": [],
   "source": []
  }
 ],
 "metadata": {
  "kernelspec": {
   "display_name": "deeplearning",
   "language": "python",
   "name": "deeplearning"
  },
  "language_info": {
   "codemirror_mode": {
    "name": "ipython",
    "version": 3
   },
   "file_extension": ".py",
   "mimetype": "text/x-python",
   "name": "python",
   "nbconvert_exporter": "python",
   "pygments_lexer": "ipython3",
   "version": "3.6.6"
  }
 },
 "nbformat": 4,
 "nbformat_minor": 2
}
